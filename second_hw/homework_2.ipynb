{
  "cells": [
    {
      "cell_type": "markdown",
      "metadata": {
        "id": "wqyZexx25r3I"
      },
      "source": [
        "# Семинар: строки"
      ]
    },
    {
      "cell_type": "markdown",
      "metadata": {
        "id": "pVbtkHiA5r3K"
      },
      "source": [
        "## Разминка\n",
        "\n",
        "Реализовать две функции: первая удаляет все цифры в строке, вторая - все буквы."
      ]
    },
    {
      "cell_type": "code",
      "execution_count": null,
      "metadata": {
        "id": "B3zkmnLx5r3L"
      },
      "outputs": [],
      "source": [
        "def delete_digits(string: str) -> str:\n",
        "  s=''\n",
        "  for i in range(len(string)):\n",
        "    if not(string[i].isdigit()):\n",
        "      s+=string[i]\n",
        "  return s\n",
        "\n",
        "\n",
        "\n",
        "def delete_letters(string: str) -> str:\n",
        "  s=''\n",
        "  for i in range(len(string)):\n",
        "    if not(string[i].isalpha()):\n",
        "      s+=string[i]\n",
        "  return s"
      ]
    },
    {
      "cell_type": "markdown",
      "metadata": {
        "id": "fKhQEbSA5r3L"
      },
      "source": [
        "**Тесты**:"
      ]
    },
    {
      "cell_type": "code",
      "execution_count": null,
      "metadata": {
        "id": "71Fyt6065r3M"
      },
      "outputs": [],
      "source": [
        "assert delete_digits('123abnd4FDhj32') == 'abndFDhj'\n",
        "assert delete_letters('123abnd4FDhj32') == '123432'"
      ]
    },
    {
      "cell_type": "markdown",
      "metadata": {
        "id": "6YtTUSU75r3M"
      },
      "source": [
        "## Задача 1: Наивный Шифрин\n",
        "\n",
        "**Условие**:\n",
        "\n",
        "Мы решили зашифровать слово, состоящее из букв английского алфавита в нижнем регистре. Но поскольку наши познания в криптографии невелики для шифрования решено было использовать один из самых простых шифров: перестановка над английским алфавитом. Перестановка записывается следующим образом: заполняется список из 26 элементов; номер ячейки соответствует номеру буквы в полученной перестановке; содержимое ячейки - ASCII код буквы. Ваша задача - реализовать алгоритм, который будет шифровывать заданное слово по заданной перестановке.\n",
        "\n",
        "**Вход**:\n",
        "- word - строка, состоящая только из букв англиского алфавита в нижнем регистре;  \n",
        "- permutation - список, состоящий из 26 элементов; содержимое списка - ASCII-коды букв английского алфавита в нижнем регистре;\n",
        "\n",
        "**Выход**:\n",
        "\n",
        "- зашифрованное слово - строка;\n",
        "\n",
        "**Решение:**"
      ]
    },
    {
      "cell_type": "code",
      "execution_count": null,
      "metadata": {
        "colab": {
          "base_uri": "https://localhost:8080/"
        },
        "id": "GqGMD30V5r3M",
        "outputId": "b3abc9bb-829a-420a-c3d8-1a2f27b523d7"
      },
      "outputs": [
        {
          "output_type": "stream",
          "name": "stdout",
          "text": [
            "zbobz\n"
          ]
        }
      ],
      "source": [
        "import string\n",
        "def encode(word: str, permutation: list[int]) -> str:\n",
        "  s=''\n",
        "  for i in range(len(word)):\n",
        "        prev = string.ascii_lowercase.find(word[i])\n",
        "        next = permutation[prev]\n",
        "        s+=chr(next)\n",
        "  return s\n",
        "\n",
        "\n",
        "  return ''\n",
        "permutation = [\n",
        "    122, 98, 99, 100, 101, 102, 103, 104, 105,\n",
        "    106, 107, 108, 109, 110, 111, 112, 113, 114,\n",
        "    115, 116, 117, 118, 119, 120, 121, 97\n",
        "]\n",
        "word = 'aboba'\n",
        "print(encode(word, permutation))"
      ]
    },
    {
      "cell_type": "markdown",
      "metadata": {
        "id": "HVwlocLp5r3N"
      },
      "source": [
        "**Тесты**:"
      ]
    },
    {
      "cell_type": "code",
      "execution_count": null,
      "metadata": {
        "id": "REK-7GSD5r3N"
      },
      "outputs": [],
      "source": [
        "permutation = [\n",
        "    122, 98, 99, 100, 101, 102, 103, 104, 105,\n",
        "    106, 107, 108, 109, 110, 111, 112, 113, 114,\n",
        "    115, 116, 117, 118, 119, 120, 121, 97\n",
        "]\n",
        "\n",
        "word = 'aboba'\n",
        "\n",
        "assert 'zbobz' == encode(word, permutation)"
      ]
    },
    {
      "cell_type": "markdown",
      "metadata": {
        "id": "hKvDKdf95r3N"
      },
      "source": [
        "**Объяснение:** в перестановке мы переставили буквы 'a' и 'z' местами."
      ]
    },
    {
      "cell_type": "markdown",
      "metadata": {
        "id": "OZq0vBkW5r3O"
      },
      "source": [
        "## Задача 2: Переставь слова\n",
        "\n",
        "**Условие**:\n",
        "\n",
        "Дана последовательность символов: строка, состоящая из заглавных и строчных букв английского алфавита, знаков препинания и пробелов. Причем, строка составлена не самым грамотным пользователем, а потому количество пробелов между непробельными символами может быть произвольным. Также неисключено наличие пробелов в начале и в конце строки. Необходимо найти самое длинное слово в строке, самое короткое слово в строке и поменять их местами. В качестве ответа вернуть строку с переставленными словами. Пробелы между словами, а также в начале и конце строки необходимо оставить нетронутыми.\n",
        "\n",
        "Если слов одинковой длины несколько, необходимо взять первое встретевшееся.\n",
        "\n",
        "*Примечание*: словом считается любая последовательность символов, не содержащая пробелов.\n",
        "\n",
        "**Вход**:\n",
        "\n",
        "- строка, состоящая из букв английского алфавита, знаков препинания и пробелов;  \n",
        "\n",
        "**Выход:**\n",
        "\n",
        "- строка, в которой самое длинное слово и самое короткое слово переставлены;  \n",
        "\n",
        "**Решение**:"
      ]
    },
    {
      "cell_type": "code",
      "execution_count": null,
      "metadata": {
        "id": "CIAVft0m5r3O"
      },
      "outputs": [],
      "source": [
        "def swap_words(sentence: str) -> str:\n"
      ]
    },
    {
      "cell_type": "markdown",
      "metadata": {
        "id": "MOpTCwMS5r3O"
      },
      "source": [
        "**Тесты:**"
      ]
    },
    {
      "cell_type": "code",
      "execution_count": null,
      "metadata": {
        "id": "NRd15tHc5r3P"
      },
      "outputs": [],
      "source": [
        "assert ' dd b  c   a  ' == swap_words(' a b  c   dd  ')"
      ]
    },
    {
      "cell_type": "markdown",
      "metadata": {
        "id": "HskKr98s5r3P"
      },
      "source": [
        "## Задача 3: Правильная скобочная последовательность\n",
        "\n",
        "**Условие**:\n",
        "\n",
        "Правильная скобочная последовательность определяется следующим образом:\n",
        "\n",
        "- пустая строка - правильная скобочная последовательность;  \n",
        "- правильная скобочная последовательность, взятая в круглые скобки - правильная скобочная последовательность;  \n",
        "- правильная скобочная последовательность, к которой приписана слева или справа правильная скобочная последовательность — правильная скобочная последовательность;\n",
        "\n",
        "Итак, на вход подается строка, состоящая только из символов \"(\", \")\". Ваша задача - определить является ли поданная строка правильной скобочной последовательностью или нет.\n",
        "\n",
        "**Вход**:\n",
        "\n",
        "- sequence - строка, состоящая из круглых скобок;\n",
        "\n",
        "**Выход**:\n",
        "\n",
        "- булево значение, True, если строка - правильная скобочная последовательность, False - иначе;\n",
        "\n",
        "**Решение**:"
      ]
    },
    {
      "cell_type": "code",
      "execution_count": 44,
      "metadata": {
        "id": "xqYidqjG5r3P"
      },
      "outputs": [],
      "source": [
        "def is_correct_bracket_seq(sequence: str) -> bool:\n",
        "  op=0\n",
        "  cl=0\n",
        "  for i in range(len(sequence)):\n",
        "        if sequence[i] == ')' and op == 0:\n",
        "            return False\n",
        "        elif sequence[i] == ')' and op != 0:\n",
        "            op -= 1\n",
        "        elif sequence[i] == '(':\n",
        "            op += 1\n",
        "  if(op==0):\n",
        "    return 1\n",
        "  return 0"
      ]
    },
    {
      "cell_type": "markdown",
      "metadata": {
        "id": "DSmp5eyB5r3P"
      },
      "source": [
        "**Тесты**:"
      ]
    },
    {
      "cell_type": "code",
      "execution_count": 45,
      "metadata": {
        "id": "MT-TpbXM5r3P"
      },
      "outputs": [],
      "source": [
        "assert is_correct_bracket_seq('')\n",
        "assert is_correct_bracket_seq('()()')\n",
        "assert not is_correct_bracket_seq(')(')\n",
        "assert is_correct_bracket_seq('()()()(())(()())')\n",
        "assert not is_correct_bracket_seq('(())(()()))')\n"
      ]
    },
    {
      "cell_type": "markdown",
      "metadata": {
        "id": "wic32ueS5r3P"
      },
      "source": [
        "## Задача 4: Странный калькулятор\n",
        "\n",
        "**Условие**:\n",
        "\n",
        "Назовем странным калькулятором калькулятор, который работает следующим образом:\n",
        "\n",
        "- на вход калькулятору подается строка, в которой описано некоторое алгебраическое выражение;  \n",
        "- операндами этого выражения являются исключительно целые числа, записанные в следующей форме: каждая цифра числа записана английским словом, обозначающим эту цифру; сами цифры, составляющие запись числа, записаны подряд. Например число десять будет иметь запись `onezero`;  \n",
        "- в состав строки входят только операторы сложения и умножения;  \n",
        "- операнды и операторы разделены пробелами;  \n",
        "- калькулятор вычисляет описанное таким образом выражение и вызвращает результат - целое число;   \n",
        "\n",
        "Ваша задача реализовать такой калькулятор.\n",
        "\n",
        "**Вход**:\n",
        "\n",
        "- строка, состоящая из слов 'zero', 'one', 'two', 'three', 'four', 'five', 'six', 'seven', 'eight', 'nine', символов '+' и '-' и пробелов;  \n",
        "\n",
        "**Выход**:\n",
        "\n",
        "- целое число - результат выполнения выражения;\n",
        "\n",
        "**Решение**:"
      ]
    },
    {
      "cell_type": "code",
      "execution_count": 31,
      "metadata": {
        "id": "M7eJ8x885r3P",
        "colab": {
          "base_uri": "https://localhost:8080/",
          "height": 332
        },
        "outputId": "67698895-af9a-4efc-8c22-f4d5ce428991"
      },
      "outputs": [
        {
          "output_type": "error",
          "ename": "TypeError",
          "evalue": "ignored",
          "traceback": [
            "\u001b[0;31m---------------------------------------------------------------------------\u001b[0m",
            "\u001b[0;31mTypeError\u001b[0m                                 Traceback (most recent call last)",
            "\u001b[0;32m<ipython-input-31-b68213205957>\u001b[0m in \u001b[0;36m<cell line: 11>\u001b[0;34m()\u001b[0m\n\u001b[1;32m      9\u001b[0m     \u001b[0mprint\u001b[0m\u001b[0;34m(\u001b[0m\u001b[0mexp\u001b[0m\u001b[0;34m)\u001b[0m\u001b[0;34m\u001b[0m\u001b[0;34m\u001b[0m\u001b[0m\n\u001b[1;32m     10\u001b[0m     \u001b[0;32mreturn\u001b[0m \u001b[0;36m1\u001b[0m\u001b[0;34m\u001b[0m\u001b[0;34m\u001b[0m\u001b[0m\n\u001b[0;32m---> 11\u001b[0;31m \u001b[0mcalculate\u001b[0m\u001b[0;34m(\u001b[0m\u001b[0;34m'-one + two + threefive - onezero'\u001b[0m\u001b[0;34m)\u001b[0m\u001b[0;34m\u001b[0m\u001b[0;34m\u001b[0m\u001b[0m\n\u001b[0m",
            "\u001b[0;32m<ipython-input-31-b68213205957>\u001b[0m in \u001b[0;36mcalculate\u001b[0;34m(expression)\u001b[0m\n\u001b[1;32m      6\u001b[0m     \u001b[0;32mfor\u001b[0m \u001b[0mi\u001b[0m \u001b[0;32min\u001b[0m \u001b[0mrange\u001b[0m\u001b[0;34m(\u001b[0m\u001b[0mlen\u001b[0m\u001b[0;34m(\u001b[0m\u001b[0mexp\u001b[0m\u001b[0;34m)\u001b[0m\u001b[0;34m)\u001b[0m\u001b[0;34m:\u001b[0m\u001b[0;34m\u001b[0m\u001b[0;34m\u001b[0m\u001b[0m\n\u001b[1;32m      7\u001b[0m       \u001b[0;32mfor\u001b[0m \u001b[0mj\u001b[0m \u001b[0;32min\u001b[0m \u001b[0mrange\u001b[0m\u001b[0;34m(\u001b[0m\u001b[0;36m10\u001b[0m\u001b[0;34m)\u001b[0m\u001b[0;34m:\u001b[0m\u001b[0;34m\u001b[0m\u001b[0;34m\u001b[0m\u001b[0m\n\u001b[0;32m----> 8\u001b[0;31m         \u001b[0mexp\u001b[0m\u001b[0;34m[\u001b[0m\u001b[0mi\u001b[0m\u001b[0;34m]\u001b[0m\u001b[0;34m=\u001b[0m\u001b[0mexp\u001b[0m\u001b[0;34m[\u001b[0m\u001b[0mi\u001b[0m\u001b[0;34m]\u001b[0m\u001b[0;34m.\u001b[0m\u001b[0mreplace\u001b[0m\u001b[0;34m(\u001b[0m\u001b[0mnums\u001b[0m\u001b[0;34m[\u001b[0m\u001b[0mj\u001b[0m\u001b[0;34m]\u001b[0m\u001b[0;34m[\u001b[0m\u001b[0;36m0\u001b[0m\u001b[0;34m]\u001b[0m\u001b[0;34m,\u001b[0m\u001b[0mnums\u001b[0m\u001b[0;34m[\u001b[0m\u001b[0mj\u001b[0m\u001b[0;34m,\u001b[0m\u001b[0;36m1\u001b[0m\u001b[0;34m]\u001b[0m\u001b[0;34m)\u001b[0m\u001b[0;34m\u001b[0m\u001b[0;34m\u001b[0m\u001b[0m\n\u001b[0m\u001b[1;32m      9\u001b[0m     \u001b[0mprint\u001b[0m\u001b[0;34m(\u001b[0m\u001b[0mexp\u001b[0m\u001b[0;34m)\u001b[0m\u001b[0;34m\u001b[0m\u001b[0;34m\u001b[0m\u001b[0m\n\u001b[1;32m     10\u001b[0m     \u001b[0;32mreturn\u001b[0m \u001b[0;36m1\u001b[0m\u001b[0;34m\u001b[0m\u001b[0;34m\u001b[0m\u001b[0m\n",
            "\u001b[0;31mTypeError\u001b[0m: list indices must be integers or slices, not tuple"
          ]
        }
      ],
      "source": [
        "from posixpath import expanduser\n",
        "def calculate(expression: str) -> int:\n",
        "    exp = expression.split()\n",
        "    nums = [ ['zero', '0'], ['one', '1'], ['two', '2'], ['three', '3'], ['four', '4'],\n",
        "             ['five', '5'], ['six', '6'], ['seven', '7'], ['eight', '8'], ['nine', '9'] ]\n",
        "    for i in range(len(exp)):\n",
        "      for j in range(10):\n",
        "        exp[i]=exp[i].replace(nums[j][0],nums[j,1])\n",
        "\n",
        "    print(exp)\n",
        "    return 1\n",
        "calculate('-one + two + threefive - onezero')"
      ]
    },
    {
      "cell_type": "markdown",
      "metadata": {
        "id": "luPQd1Eg5r3P"
      },
      "source": [
        "**Тесты**:"
      ]
    },
    {
      "cell_type": "code",
      "execution_count": null,
      "metadata": {
        "id": "EKpqOVgx5r3Q"
      },
      "outputs": [],
      "source": [
        "assert calculate('-one + two + threefive - onezero') == 26"
      ]
    },
    {
      "cell_type": "markdown",
      "metadata": {
        "id": "MCZPRASJ5r3Q"
      },
      "source": [
        "## Задача 5: Парсер\n",
        "\n",
        "Необходимо реализовать следующий алгоритм парсинга документов:\n",
        "\n",
        "- на вход алгоритму подается строка, которую необходимо распарсить, и пары специальных символов, которые поддерживаются парсером; например: \\</a>, \\<a>;  \n",
        "- строка состоит из специальных символов и строк, окруженных специальными символами;  \n",
        "- валидными считаются слова, которые заключены в правильную пару служебных символов, и служебные символы этой пары входят в список символов, поддерживаемых парсером; например, слово, заключенное в служебные символы: \\</a>word\\<a>, будет валидным, если \\</a> и \\<a> поддерживаются парсером - а слово, заключенное в служебные символы: \\</b>word\\<a> - не будет валидным ни в каком случае;  \n",
        "- парсер выделяет валидные слова, и сохраняет уникальные валидные слова в список;  \n",
        "\n",
        "Ваша задача - реализовать описанный алгоритм парсинга.\n",
        "\n",
        "**Вход:**\n",
        "\n",
        "- строка, состоящая из специальных символов следующего формата: \\<[ / ]english_letter>, - и из букв английского алфавита;  \n",
        "- список пар(кортежей) - валидных служебных конструкций;  \n",
        "\n",
        "**Выход**:\n",
        "\n",
        "- список уникальных валидных слов;  \n",
        "\n",
        "**Решение:**"
      ]
    },
    {
      "cell_type": "code",
      "execution_count": 41,
      "metadata": {
        "id": "S6hvHpzR5r3Q",
        "colab": {
          "base_uri": "https://localhost:8080/"
        },
        "outputId": "f89e70c9-1fff-4958-c457-6ab9badbf1f7"
      },
      "outputs": [
        {
          "output_type": "execute_result",
          "data": {
            "text/plain": [
              "['frozenset', 'list']"
            ]
          },
          "metadata": {},
          "execution_count": 41
        }
      ],
      "source": [
        "def parse(string: str, valid_pairs: list[tuple[str, str]]) -> list[str]:\n",
        "  s=[]\n",
        "  for pair in valid_pairs:\n",
        "    prev = string.replace(pair[0], \"*\").replace(pair[1], \"+*\")\n",
        "    prev=prev.split(\"*\")\n",
        "    for uniq in prev:\n",
        "      if(uniq[:-1] not in s and len(uniq)>1 and uniq[-1]=='+' and '>' not in uniq):\n",
        "        s.append(uniq[:-1])\n",
        "  return s\n",
        "\n",
        "\n",
        "string = (\n",
        "    \"</p><p><a>float</b></p><p><b>frozenset</b>\"\n",
        "    \"</p><p><c>list</c></p><p><b>list</b>\"\n",
        ")\n",
        "valid_pairs = [(\"<a>\", \"</a>\"), (\"<b>\", \"</b>\"), (\"<c>\", \"</c>\")]\n",
        "\n",
        "parse(string, valid_pairs)"
      ]
    },
    {
      "cell_type": "markdown",
      "metadata": {
        "id": "0nb8FN6N5r3Q"
      },
      "source": [
        "**Тесты:**"
      ]
    },
    {
      "cell_type": "code",
      "execution_count": null,
      "metadata": {
        "id": "lSmA4uYi5r3Q"
      },
      "outputs": [],
      "source": [
        "string = (\n",
        "    \"</p><p><a>float</b></p><p><b>frozenset</b>\"\n",
        "    \"</p><p><c>list</c></p><p><b>list</b>\"\n",
        ")\n",
        "valid_pairs = [(\"<a>\", \"</a>\"), (\"<b>\", \"</b>\"), (\"<c>\", \"</c>\")]\n",
        "\n",
        "assert parse(string, valid_pairs) == [\"frozenset\", \"list\"]"
      ]
    },
    {
      "cell_type": "markdown",
      "metadata": {
        "id": "LDr115Cp5r3Q"
      },
      "source": [
        "## Задача 6: Умная консоль\n",
        "\n",
        "**Условие**:\n",
        "\n",
        "Вы работаете с консолью, которая имеет некий набор команд. Консоль достаточно умная и умеет исправлять ошибки пользователя, если ошибка незначительная. Незначительными считаются ошибки одного из трёх типов:\n",
        "\n",
        "- ввод одного лишнего символа;  \n",
        "- пропуск одного символа;  \n",
        "- один неправильно введенный символ;\n",
        "\n",
        "Притом описанные ошибки не должны вызывать неоднозначность. Так, например комманда \"gt\" с набором команд [cd, ls, git] будет восстановлена до команды git, но та же команда с набором команд [cd, ls, git, get] может соответствовать как команде \"get\", так и команде \"git\" и восстановлена не будет.\n",
        "\n",
        "Если команда написана с незначительной ошибкой, то консоль её автоматически исправляет и выполняет. Реализуйте алгоритм check_comand, который проверяет, выполнит ли консоль с заданным набором команд команду пользователя или нет.\n",
        "\n",
        "**Вход**:\n",
        "\n",
        "- user_comand - строка, команда, введенная пользователем;  \n",
        "- comands - список строк, команды, поддерживаемые консолью;  \n",
        "\n",
        "**Выход**:\n",
        "\n",
        "- булево значение: True, если команда будет выполнена, False - иначе;\n",
        "\n",
        "**Решение:**"
      ]
    },
    {
      "cell_type": "code",
      "execution_count": 42,
      "metadata": {
        "id": "AuPRXKI35r3Q"
      },
      "outputs": [],
      "source": [
        "def char_extra(user_command: str, command: str) -> bool:\n",
        "    if len(user_command) - len(command) != 1:\n",
        "        return False\n",
        "    flag = False\n",
        "    for i in range(len(command)):\n",
        "        if not flag:\n",
        "            if user_command[i] != command[i]:\n",
        "                flag = True\n",
        "        else:\n",
        "            if user_command[i+1] != command[i]:\n",
        "                return False\n",
        "    return True\n",
        "def char_missing(user_command: str, command: str) -> bool:\n",
        "    if len(command) - len(user_command) != 1:\n",
        "        return False\n",
        "    flag = False\n",
        "    for i in range(len(user_command)):\n",
        "        if not flag:\n",
        "            if command[i] != user_command[i]:\n",
        "                flag = True\n",
        "        else:\n",
        "            if command[i+1] != user_command[i]:\n",
        "                return False\n",
        "    return True\n",
        "def char_wrong(user_command: str, command: str) -> bool:\n",
        "    if len(user_command) != len(command):\n",
        "        return False\n",
        "    flag = False\n",
        "    for i in range(len(user_command)):\n",
        "        if not flag:\n",
        "            if user_command[i] != command[i]:\n",
        "                flag = True\n",
        "        else:\n",
        "            if user_command[i] != command[i]:\n",
        "                return False\n",
        "    return True\n",
        "def everything_good(user_command: str, command: str) -> bool:\n",
        "    return user_command == command\n",
        "\n",
        "\n",
        "def check_comand(user_command: str, commands: list[str]) -> bool:\n",
        "    commands.sort()\n",
        "    for i in range(len(commands)-1):\n",
        "        if commands[i] == commands[i+1]: return False\n",
        "    checker = [False]*(len(commands))\n",
        "    for i in range(len(commands)):\n",
        "        if(everything_good(user_command, commands[i])):\n",
        "            return True\n",
        "        elif(char_extra(user_command, commands[i])):\n",
        "            checker[i] = True\n",
        "        elif(char_missing(user_command, commands[i])):\n",
        "            checker[i] = True\n",
        "        elif(char_wrong(user_command, commands[i])):\n",
        "            checker[i] = True\n",
        "    counter = 0\n",
        "    for i in checker:\n",
        "        if i: counter += 1\n",
        "    if counter == 1:\n",
        "        return True\n",
        "    return False"
      ]
    },
    {
      "cell_type": "markdown",
      "metadata": {
        "id": "zpde1yJg5r3Q"
      },
      "source": [
        "**Тесты:**"
      ]
    },
    {
      "cell_type": "code",
      "execution_count": 43,
      "metadata": {
        "id": "AoX1n6RG5r3R"
      },
      "outputs": [],
      "source": [
        "assert check_comand('gt', ['cd', 'ls', 'git'])\n",
        "assert not check_comand('gt', ['cd', 'ls', 'git', 'get'])"
      ]
    }
  ],
  "metadata": {
    "kernelspec": {
      "display_name": "Python 3",
      "language": "python",
      "name": "python3"
    },
    "language_info": {
      "codemirror_mode": {
        "name": "ipython",
        "version": 3
      },
      "file_extension": ".py",
      "mimetype": "text/x-python",
      "name": "python",
      "nbconvert_exporter": "python",
      "pygments_lexer": "ipython3",
      "version": "3.11.1"
    },
    "orig_nbformat": 4,
    "colab": {
      "provenance": []
    }
  },
  "nbformat": 4,
  "nbformat_minor": 0
}
