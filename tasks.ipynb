{
 "cells": [
  {
   "cell_type": "code",
   "execution_count": 103,
   "metadata": {},
   "outputs": [],
   "source": [
    "from typing import Iterable, Any"
   ]
  },
  {
   "cell_type": "markdown",
   "metadata": {},
   "source": [
    "### Разминка: методы через срезы\n",
    "\n",
    "Значительную часть модифицирующих методов списков можно реализовать через срезы. Ваша задача реализовать аналоги методов append(), extend(), insert(), reverse(), используя только срезы."
   ]
  },
  {
   "cell_type": "code",
   "execution_count": 104,
   "metadata": {},
   "outputs": [
    {
     "name": "stdout",
     "output_type": "stream",
     "text": [
      "[3, 2, 1]\n"
     ]
    }
   ],
   "source": [
    "def my_append(list_instance: list, x: Any) -> None:\n",
    "    # ВАШ КОД\n",
    "    \n",
    "    pass\n",
    "\n",
    "def my_extend(\n",
    "    list_instance: list, expansion: Iterable) -> None:\n",
    "    # ВАШ КОД\n",
    "    pass\n",
    "\n",
    "def my_insert(list_instance: list, i: int) -> None:\n",
    "    # ВАШ КОД\n",
    "    #list_instance[]\n",
    "    pass\n",
    "\n",
    "def my_reverse(list_instance: list) -> None:\n",
    "    # ВАШ КОД\n",
    "    list_instance[:]=list_instance[::-1]\n",
    "\n",
    "a= [1 ,2,3]\n",
    "my_reverse(a)\n",
    "print(a)"
   ]
  },
  {
   "cell_type": "markdown",
   "metadata": {},
   "source": [
    "### Задача 1: Сложение\n",
    "\n",
    "На вход подаются два списка, репрезентирующие числа в десятичной системе счисления. Элементы списков - числа от 0 до 9, представляющие значения разрядов числа. Самый левый разряд - самый больший. Т.е. число 123 будет представлено списком [1, 2, 3]. Ваша задача - вычислить сумму переданных чисел и вернуть список, представляюзщий эту сумму. "
   ]
  },
  {
   "cell_type": "code",
   "execution_count": 105,
   "metadata": {},
   "outputs": [
    {
     "name": "stdout",
     "output_type": "stream",
     "text": [
      "[2, 4, 7]\n"
     ]
    }
   ],
   "source": [
    "def sum_two_nums(num1, num2):\n",
    "    n = max(len(num1), len(num2))\n",
    "    num1=[0]*(n+1 - len(num1)) + num1\n",
    "    num2=[0]*(n+1 - len(num2)) + num2\n",
    "    rest = 0\n",
    "    res = [0] * (n+1) \n",
    "    for i in range(n , 0, -1):\n",
    "        res[i] = num1[i]+num2[i]+rest\n",
    "        rest = res[i]//10\n",
    "        res[i]%=10\n",
    "    res[0]=rest\n",
    "    if res[0]!=0:\n",
    "        return res\n",
    "    return res[1:]\n",
    "\n",
    "num1=[1,2,3]\n",
    "num2=[1,2,4]\n",
    "s=sum_two_nums(num1, num2)\n",
    "print(s)"
   ]
  },
  {
   "cell_type": "markdown",
   "metadata": {},
   "source": [
    "**Тесты:**"
   ]
  },
  {
   "cell_type": "code",
   "execution_count": 106,
   "metadata": {},
   "outputs": [],
   "source": [
    "num1 = [1, 2, 3]\n",
    "num2 = [7, 7]\n",
    "\n",
    "assert sum_two_nums(num1, num2) == [2, 0, 0]\n",
    "assert sum_two_nums(num2, num1) == [2, 0, 0]"
   ]
  },
  {
   "cell_type": "markdown",
   "metadata": {},
   "source": [
    "### Задача 2: Объеденяй и не властвуй\n",
    "\n",
    "На вход подан список intervals, где intervals[ i ] = [$start_i$, $stop_i$]. Объедените все пересекающиеся интервалы и верните список непересекающихся интервалов, покрывающий все интервалы из intervals."
   ]
  },
  {
   "cell_type": "code",
   "execution_count": 107,
   "metadata": {},
   "outputs": [],
   "source": [
    "def merge_intervals(intervals):\n",
    "    intervals.sort()\n",
    "\n",
    "\n",
    "\n",
    "    n = len(intervals)\n",
    "    res = []\n",
    "    for i in range(n-1):\n",
    "        if intervals[i][1] <= intervals[i+1][0]:\n",
    "            res.append(intervals[i])\n",
    "        else:\n",
    "            intervals[i+1][0]=intervals[i][0]\n",
    "    res.append(intervals[-1])\n",
    "    return res\n"
   ]
  },
  {
   "cell_type": "markdown",
   "metadata": {},
   "source": [
    "**Тесты:**"
   ]
  },
  {
   "cell_type": "code",
   "execution_count": 108,
   "metadata": {},
   "outputs": [
    {
     "name": "stdout",
     "output_type": "stream",
     "text": [
      "[[1, 5]]\n"
     ]
    }
   ],
   "source": [
    "intervals = [[1,3],[2,6],[15,18],[8,10]]\n",
    "assert merge_intervals(intervals) == [[1,6],[8,10],[15,18]]\n",
    "\n",
    "int1 = [[1,3],[2,4],[3,5]]\n",
    "print(merge_intervals(int1))"
   ]
  },
  {
   "cell_type": "markdown",
   "metadata": {},
   "source": [
    "### Задача 3: Удалим дубликаты\n",
    "\n",
    "Дан список nums, отсортированный в неубывающем порядке. Ваша задача удалить дублирующиеся элементы **на месте** так, чтобы каждый уникальный элемент массива имел лишь одно вхождение. При этом относительный порядок следования элементов должен остаться без изменений."
   ]
  },
  {
   "cell_type": "code",
   "execution_count": 109,
   "metadata": {},
   "outputs": [
    {
     "name": "stdout",
     "output_type": "stream",
     "text": [
      "[1, 2]\n",
      "[1, 2]\n"
     ]
    }
   ],
   "source": [
    "def remove_duplicates(nums):\n",
    "    arr=[]\n",
    "    n=len(nums)\n",
    "    for i in range(n-1):\n",
    "        if(nums[i]!=nums[i+1]):\n",
    "            arr.append(nums[i])\n",
    "    arr.append(nums[-1])\n",
    "    print(arr)\n",
    "    nums[:]=arr\n",
    "\n",
    "nums = [1, 1, 2]\n",
    "\n",
    "remove_duplicates(nums)\n",
    "print(nums)\n",
    "# ВАШ КОД"
   ]
  },
  {
   "cell_type": "markdown",
   "metadata": {},
   "source": [
    "**Тесты:**"
   ]
  },
  {
   "cell_type": "code",
   "execution_count": 110,
   "metadata": {},
   "outputs": [
    {
     "name": "stdout",
     "output_type": "stream",
     "text": [
      "[1, 2]\n"
     ]
    }
   ],
   "source": [
    "nums = [1, 1, 2]\n",
    "\n",
    "remove_duplicates(nums)\n",
    "assert nums == [1, 2]"
   ]
  },
  {
   "cell_type": "markdown",
   "metadata": {},
   "source": [
    "### Задача 4: Уникальные пути\n",
    "\n",
    "Вам дано двумерное поле размера m X n. В левом верхнем углу (grid[0][0]) расположен робот. Робот старается добраться до правого нижнего угла (grid[-1][-1]). Робот может ходить только вниз или вправо. \n",
    "\n",
    "Свободные клетки и препятствия помечены в массиве grid 0 и 1 соответственно. Пути робот из верхнего левого угла в правый нижний угол могут проходить только через свободные клетки. \n",
    "\n",
    "Ваша задача - вычислить максимальное возможное количество уникальных путей из левого верхнего угла в правый нижний угол."
   ]
  },
  {
   "cell_type": "code",
   "execution_count": 114,
   "metadata": {},
   "outputs": [],
   "source": [
    "def compute_unique_pathes(grid):\n",
    "    answer = 0\n",
    "    for i in range(len(grid)):\n",
    "        for j in range(len(grid[0])):\n",
    "            if(grid[i][j]==1):\n",
    "                grid[i][j]=-1\n",
    "\n",
    "    for i in range(len(grid)):\n",
    "        for j in range(len(grid[0])):\n",
    "            if(i==0):\n",
    "                grid[i][j]=1\n",
    "            if(j==0):\n",
    "                grid[i][j]=1\n",
    "\n",
    "    print(grid)\n",
    "\n",
    "    \n",
    "            \n",
    "    for i in range(len(grid)):\n",
    "\n",
    "        for j in range(len(grid[0])):\n",
    "\n",
    "            if(grid[i][j]!=-1):\n",
    "\n",
    "                if(i-1>=0 and j-1>=0):\n",
    "\n",
    "                    if(grid[i-1][j]==-1):\n",
    "\n",
    "                        if(grid[i][j-1]==1):\n",
    "                            grid[i][j] = 1 + grid[i][j-1]\n",
    "\n",
    "                    elif(grid[i][j-1]==-1):\n",
    "                        grid[i][j] = 1 + grid[i-1][j]\n",
    "\n",
    "                    else:\n",
    "                        grid[i][j] = 1 + sum(grid[i-1][j],grid[i][j-1])\n",
    "    print(grid)\n",
    "    \n",
    "    return answer"
   ]
  },
  {
   "cell_type": "code",
   "execution_count": 117,
   "metadata": {},
   "outputs": [],
   "source": [
    "def compute_unique_pathes(grid):\n",
    "    answer = 0\n",
    "    \n",
    "    for i in range(len(grid)):\n",
    "\n",
    "        for j in range(len(grid[0])):\n",
    "\n",
    "            if(grid[i][j]!=1):\n",
    "\n",
    "                if(i-1>=0):\n",
    "\n",
    "                    if(grid[i-1][j]!=1):\n",
    "                        grid[i][j] += grid[i-1][j]\n",
    "                if(j-1>=0):\n",
    "                    if(grid[i-1][j]!=1):\n",
    "                        grid[i][j] +=grid[i-1][j]\n",
    "    print(grid)\n",
    "    \n",
    "    return answer"
   ]
  },
  {
   "cell_type": "markdown",
   "metadata": {},
   "source": [
    "**Тесты:**"
   ]
  },
  {
   "cell_type": "code",
   "execution_count": 118,
   "metadata": {},
   "outputs": [],
   "source": [
    "grid = [\n",
    "    [0, 0, 0],\n",
    "    [0, 1, 0],\n",
    "    [0, 0, 0]\n",
    "]\n",
    "\n",
    "#assert compute_unique_pathes(grid) == 2"
   ]
  },
  {
   "cell_type": "markdown",
   "metadata": {},
   "source": [
    "### Задача 5: Игра в прыжки\n",
    "\n",
    "Вам дан список jumps, состоящий из целых чисел, индексирующийся с нуля и имеющий длину n. Вы начинаете движение с позиции jumps[0]. Каждый элемент списка jumps[i] представляет собой длину максимального прыжка вперед с позиции i: если вы находитесь в позиции i, вы можете прыжком переместиться на любую позицию от i до i + jumps[i].\n",
    "\n",
    "Ваша задача - определить минимальное число прыжков, необходимое для достижения позиции n - 1."
   ]
  },
  {
   "cell_type": "code",
   "execution_count": 125,
   "metadata": {},
   "outputs": [],
   "source": [
    "def func(mas):\n",
    "    n=len(mas)\n",
    "\n",
    "    dp=[float(\"+inf\")]*n\n",
    "    dp[0]=0\n",
    "    for i in range(n):\n",
    "        for j in range(i+1, min(n, mas[i]+1+i)):\n",
    "            dp[j] = min(dp[j], dp[i]+1)\n",
    "    return dp[-1]"
   ]
  },
  {
   "cell_type": "markdown",
   "metadata": {},
   "source": [
    "**Тесты:**"
   ]
  },
  {
   "cell_type": "code",
   "execution_count": 126,
   "metadata": {},
   "outputs": [],
   "source": [
    "jumps = [2,3,1,1,4]\n",
    "assert jump(jumps) == 2"
   ]
  }
 ],
 "metadata": {
  "kernelspec": {
   "display_name": "pyvenv_study2324",
   "language": "python",
   "name": "python3"
  },
  "language_info": {
   "codemirror_mode": {
    "name": "ipython",
    "version": 3
   },
   "file_extension": ".py",
   "mimetype": "text/x-python",
   "name": "python",
   "nbconvert_exporter": "python",
   "pygments_lexer": "ipython3",
   "version": "3.8.8"
  },
  "orig_nbformat": 4
 },
 "nbformat": 4,
 "nbformat_minor": 2
}
